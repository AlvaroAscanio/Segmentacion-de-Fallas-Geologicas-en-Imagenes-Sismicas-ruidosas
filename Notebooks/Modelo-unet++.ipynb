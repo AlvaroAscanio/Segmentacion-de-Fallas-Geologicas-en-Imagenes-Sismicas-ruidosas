{
 "cells": [
  {
   "cell_type": "code",
   "execution_count": null,
   "metadata": {
    "_cell_guid": "b1076dfc-b9ad-4769-8c92-a6c4dae69d19",
    "_uuid": "8f2839f25d086af736a60e9eeb907d3b93b6e0e5",
    "execution": {
     "iopub.execute_input": "2024-12-31T03:02:17.359190Z",
     "iopub.status.busy": "2024-12-31T03:02:17.358871Z",
     "iopub.status.idle": "2024-12-31T03:02:29.689530Z",
     "shell.execute_reply": "2024-12-31T03:02:29.688461Z",
     "shell.execute_reply.started": "2024-12-31T03:02:17.359151Z"
    },
    "trusted": true
   },
   "outputs": [],
   "source": [
    "\"Créditos: La arquitectura de red neuronal Unet++ fue modificada del repositorio unetplusplus de Yihang Xin en su repositorio Github: https://github.com/yihangx/Unetplusplus/blob/master/Unet%2B%2B.ipynb\"\n"
   ]
  },
  {
   "cell_type": "code",
   "execution_count": null,
   "metadata": {
    "trusted": true
   },
   "outputs": [],
   "source": [
    "import tensorflow as tf\n",
    "import tensorflow.keras.layers as L\n",
    "from tensorflow.keras.preprocessing.image import load_img, img_to_array\n",
    "from tensorflow.keras.metrics import BinaryAccuracy, BinaryIoU\n",
    "import os\n",
    "import matplotlib.pyplot as plt\n",
    "import cv2\n",
    "import numpy as np\n",
    "from skimage.transform import resize\n",
    "from sklearn.model_selection import train_test_split\n",
    "import pandas as pd\n"
   ]
  },
  {
   "cell_type": "code",
   "execution_count": null,
   "metadata": {
    "execution": {
     "iopub.execute_input": "2024-12-31T03:03:29.029810Z",
     "iopub.status.busy": "2024-12-31T03:03:29.029445Z",
     "iopub.status.idle": "2024-12-31T03:05:22.999831Z",
     "shell.execute_reply": "2024-12-31T03:05:22.999083Z",
     "shell.execute_reply.started": "2024-12-31T03:03:29.029777Z"
    },
    "trusted": true
   },
   "outputs": [],
   "source": [
    "# Rutas de las carpetas\n",
    "carpeta_fallas = \"/kaggle/input/implem-fase2/fase2/Fallas\"\n",
    "carpeta_sismica = \"/kaggle/input/implem-fase2/fase2/Sismica\"\n",
    "\n",
    "#import shutil\n",
    "\n",
    "#local_fallas = \"/content/local_fallas\"\n",
    "#local_sismica = \"/content/local_sismica\"\n",
    "\n",
    "# Copiar carpetas localmente\n",
    "#shutil.copytree(carpeta_fallas, local_fallas)\n",
    "#shutil.copytree(carpeta_sismica, local_sismica)\n",
    "\n",
    "# Actualizar las rutas\n",
    "#carpeta_fallas = local_fallas\n",
    "#carpeta_sismica = local_sismica\n",
    "\n",
    "# Listar archivos en ambas carpetas\n",
    "archivos_fallas = sorted(os.listdir(carpeta_fallas))\n",
    "archivos_sismica = sorted(os.listdir(carpeta_sismica))\n",
    "\n",
    "# Cargar y emparejar\n",
    "fallas_data = []\n",
    "sismica_data = []\n",
    "\n",
    "for archivo_falla, archivo_sismica in zip(archivos_fallas, archivos_sismica):\n",
    "    if archivo_falla == archivo_sismica:  # Verifica que los nombres coincidan\n",
    "        # Cargar los arrays\n",
    "        falla_array = np.load(os.path.join(carpeta_fallas, archivo_falla))\n",
    "        sismica_array = np.load(os.path.join(carpeta_sismica, archivo_sismica))\n",
    "\n",
    "        # Asegurarse de que las imágenes tengan la misma forma\n",
    "        if falla_array.shape != (128, 128):\n",
    "            falla_array = resize(falla_array, (128, 128))\n",
    "        if sismica_array.shape != (128, 128):\n",
    "            sismica_array = resize(sismica_array, (128, 128))\n",
    "\n",
    "        # Añadir a las listas\n",
    "        fallas_data.append(falla_array)\n",
    "        sismica_data.append(sismica_array)\n",
    "    else:\n",
    "        print(f\"Advertencia: Los archivos no coinciden: {archivo_falla} vs {archivo_sismica}\")\n",
    "\n",
    "images = np.array(sismica_data)\n",
    "masks = np.array(fallas_data)\n",
    "\n"
   ]
  },
  {
   "cell_type": "code",
   "execution_count": null,
   "metadata": {
    "execution": {
     "iopub.execute_input": "2024-12-31T03:05:43.523199Z",
     "iopub.status.busy": "2024-12-31T03:05:43.522299Z",
     "iopub.status.idle": "2024-12-31T03:05:46.456072Z",
     "shell.execute_reply": "2024-12-31T03:05:46.455139Z",
     "shell.execute_reply.started": "2024-12-31T03:05:43.523165Z"
    },
    "trusted": true
   },
   "outputs": [],
   "source": [
    "#Dividir dataset\n",
    "images_train, images_test, masks_train, masks_test = train_test_split(images, masks, random_state=13, test_size=0.2)\n",
    "images_train = np.nan_to_num(images_train, nan=0.0)\n",
    "images_test = np.nan_to_num(images_test, nan=0.0)"
   ]
  },
  {
   "cell_type": "code",
   "execution_count": null,
   "metadata": {
    "execution": {
     "iopub.execute_input": "2024-12-31T03:05:50.091615Z",
     "iopub.status.busy": "2024-12-31T03:05:50.091225Z",
     "iopub.status.idle": "2024-12-31T03:05:50.750953Z",
     "shell.execute_reply": "2024-12-31T03:05:50.750032Z",
     "shell.execute_reply.started": "2024-12-31T03:05:50.091549Z"
    },
    "trusted": true
   },
   "outputs": [],
   "source": [
    "#Visualizar los datos\n",
    "def visualize_data(images, masks, num_samples=5):\n",
    "    plt.figure(figsize=(12, 6))\n",
    "\n",
    "    for i in range(num_samples):\n",
    "        # Mostrar la imagen\n",
    "        plt.subplot(2, num_samples, i + 1)\n",
    "        plt.imshow(images[i+1].T, cmap='gray')\n",
    "        plt.title(f'Imagen {i + 1}')\n",
    "        plt.axis('off')\n",
    "\n",
    "        # Mostrar la máscara\n",
    "        plt.subplot(2, num_samples, i + 1 + num_samples)\n",
    "        plt.imshow(masks[i+1].T, cmap='gist_gray')\n",
    "        plt.title(f'Máscara {i + 1}')\n",
    "        plt.axis('off')\n",
    "\n",
    "    #plt.savefig(\"patches_unet++.svg\", format=\"svg\")\n",
    "    plt.show()\n",
    "\n",
    "visualize_data(images_train, masks_train, num_samples=4)"
   ]
  },
  {
   "cell_type": "code",
   "execution_count": null,
   "metadata": {
    "execution": {
     "iopub.execute_input": "2024-12-31T03:05:54.800944Z",
     "iopub.status.busy": "2024-12-31T03:05:54.800618Z",
     "iopub.status.idle": "2024-12-31T03:05:54.805714Z",
     "shell.execute_reply": "2024-12-31T03:05:54.804495Z",
     "shell.execute_reply.started": "2024-12-31T03:05:54.800918Z"
    },
    "trusted": true
   },
   "outputs": [],
   "source": [
    "\n",
    "dropout_rate = 0.1\n",
    "activation = \"relu\"\n"
   ]
  },
  {
   "cell_type": "code",
   "execution_count": null,
   "metadata": {
    "execution": {
     "iopub.execute_input": "2024-12-31T03:05:57.863288Z",
     "iopub.status.busy": "2024-12-31T03:05:57.862464Z",
     "iopub.status.idle": "2024-12-31T03:05:58.991518Z",
     "shell.execute_reply": "2024-12-31T03:05:58.990096Z",
     "shell.execute_reply.started": "2024-12-31T03:05:57.863255Z"
    },
    "trusted": true
   },
   "outputs": [],
   "source": [
    "from tensorflow.keras import Model, Input\n",
    "from tensorflow.keras.layers import (\n",
    "    Conv2D, Conv2DTranspose, MaxPooling2D, BatchNormalization,\n",
    "    Activation, concatenate, Dropout\n",
    ")\n",
    "from tensorflow.keras.optimizers import Adam\n",
    "from tensorflow.keras.losses import BinaryCrossentropy\n",
    "import tensorflow as tf\n",
    "\n",
    "# Definir conv_block\n",
    "def conv_block(inputs, num_of_channels):\n",
    "    x = Conv2D(num_of_channels, (3, 3), activation='relu', kernel_initializer='he_normal', padding='same')(inputs)\n",
    "    x = Dropout(0.1)(x)\n",
    "    x = Conv2D(num_of_channels, (3, 3), activation='relu', kernel_initializer='he_normal', padding='same')(x)\n",
    "    return x\n",
    "\n",
    "# Dimensiones de entrada\n",
    "IMG_HEIGHT = 128\n",
    "IMG_WIDTH = 128\n",
    "IMG_CHANNELS = 1\n",
    "\n",
    "# Construcción del modelo\n",
    "inputs = Input((IMG_HEIGHT, IMG_WIDTH, IMG_CHANNELS))\n",
    "s = inputs\n",
    "\n",
    "c1 = Conv2D(32, (3, 3), activation='relu', kernel_initializer='he_normal', padding='same')(s)\n",
    "c1 = Dropout(0.1)(c1)\n",
    "c1 = Conv2D(32, (3, 3), activation='relu', kernel_initializer='he_normal', padding='same')(c1)\n",
    "p1 = MaxPooling2D((2, 2))(c1)\n",
    "\n",
    "\n",
    "c2 = Conv2D(64, (3, 3), activation='relu', kernel_initializer='he_normal', padding='same') (p1)\n",
    "c2 = Dropout(0.1) (c2)\n",
    "c2 = Conv2D(64, (3, 3), activation='relu', kernel_initializer='he_normal', padding='same') (c2)\n",
    "p2 = MaxPooling2D((2, 2)) (c2)\n",
    "\n",
    "up1_2 = Conv2DTranspose(32,(2,2),strides=(2,2),padding='same')(c2)\n",
    "conv1_2 = concatenate([up1_2,c1],axis=3)\n",
    "conv1_2 = conv_block(conv1_2, num_of_channels=32)\n",
    "\n",
    "c3 = Conv2D(128, (3, 3), activation='relu', kernel_initializer='he_normal', padding='same') (p2)\n",
    "c3 = Dropout(0.1) (c3)\n",
    "c3 = Conv2D(128, (3, 3), activation='relu', kernel_initializer='he_normal', padding='same') (c3)\n",
    "p3 = MaxPooling2D((2, 2)) (c3)\n",
    "\n",
    "up2_2 = Conv2DTranspose(64, (2, 2), strides=(2, 2), padding='same')(c3)\n",
    "conv2_2 = concatenate([up2_2, c2], axis=3)\n",
    "conv2_2 = conv_block(conv2_2, num_of_channels=64)\n",
    "\n",
    "up1_3 = Conv2DTranspose(32, (2, 2), strides=(2, 2), padding='same')(conv2_2)\n",
    "conv1_3 = concatenate([up1_3, c1, conv1_2], axis=3)\n",
    "conv1_3 = conv_block(conv1_3, num_of_channels=32)\n",
    "\n",
    "c4 = Conv2D(256, (3, 3), activation='relu', kernel_initializer='he_normal', padding='same') (p3)\n",
    "c4 = Dropout(0.1) (c4)\n",
    "c4 = Conv2D(256, (3, 3), activation='relu', kernel_initializer='he_normal', padding='same') (c4)\n",
    "p4 = MaxPooling2D(pool_size=(2, 2)) (c4)\n",
    "\n",
    "up3_2 = Conv2DTranspose(128, (2, 2), strides=(2, 2), padding='same')(c4)\n",
    "conv3_2 = concatenate([up3_2, c3], axis=3)\n",
    "conv3_2 = conv_block(conv3_2, num_of_channels=128)\n",
    "\n",
    "up2_3 = Conv2DTranspose(64, (2, 2), strides=(2, 2), padding='same')(conv3_2)\n",
    "conv2_3 = concatenate([up2_3, c2, conv2_2], axis=3)\n",
    "conv2_3 = conv_block(conv2_3, num_of_channels=64)\n",
    "\n",
    "up1_4 = Conv2DTranspose(32, (2, 2), strides=(2, 2), padding='same')(conv2_3)\n",
    "conv1_4 = concatenate([up1_4, c1, conv1_2, conv1_3], axis=3)\n",
    "conv1_4 = conv_block(conv1_4, num_of_channels=32)\n",
    "\n",
    "c5 = Conv2D(512, (3, 3), activation='relu', kernel_initializer='he_normal', padding='same') (p4)\n",
    "c5 = Dropout(0.1) (c5)\n",
    "c5 = Conv2D(512, (3, 3), activation='relu', kernel_initializer='he_normal', padding='same') (c5)\n",
    "\n",
    "up4_2 = Conv2DTranspose(256, (2, 2), strides=(2, 2), padding='same')(c5)\n",
    "conv4_2 = concatenate([up4_2, c4],  axis=3)\n",
    "conv4_2 = conv_block(conv4_2,  num_of_channels=256)\n",
    "\n",
    "up3_3 = Conv2DTranspose(128, (2, 2), strides=(2, 2), padding='same')(conv4_2)\n",
    "conv3_3 = concatenate([up3_3, c3, conv3_2],  axis=3)\n",
    "conv3_3 = conv_block(conv3_3, num_of_channels=128)\n",
    "\n",
    "up2_4 = Conv2DTranspose(64, (2, 2), strides=(2, 2), padding='same')(conv3_3)\n",
    "conv2_4 = concatenate([up2_4, c2, conv2_2, conv2_3], axis=3)\n",
    "conv2_4 = conv_block(conv2_4, num_of_channels=64)\n",
    "\n",
    "up1_5 = Conv2DTranspose(32, (2, 2), strides=(2, 2), padding='same')(conv2_4)\n",
    "conv1_5 = concatenate([up1_5, c1, conv1_2, conv1_3, conv1_4],  axis=3)\n",
    "conv1_5 = conv_block(conv1_5, num_of_channels=32)\n",
    "\n",
    "# Salida del modelo\n",
    "nestnet_output = Conv2D(1, (1, 1), activation='sigmoid',\n",
    "                        kernel_initializer='he_normal', padding='same')(conv1_5)\n",
    "model = Model(inputs=inputs, outputs=nestnet_output)\n",
    "\n",
    "# Compilar el modelo\n",
    "optimizer = Adam(learning_rate=1e-4)\n",
    "loss_fn = BinaryCrossentropy(from_logits=False)\n",
    "metrics = [tf.keras.metrics.Precision(),BinaryIoU(target_class_ids=[1], threshold=0.5, name=None, dtype=None), BinaryAccuracy(dtype=None, threshold=0.5)]\n",
    "\n",
    "model.compile(optimizer=optimizer, loss=loss_fn, metrics=metrics)\n",
    "\n",
    "# Mostrar el resumen del modelo\n",
    "model.summary()\n"
   ]
  },
  {
   "cell_type": "code",
   "execution_count": null,
   "metadata": {
    "execution": {
     "iopub.execute_input": "2024-12-31T03:06:11.477363Z",
     "iopub.status.busy": "2024-12-31T03:06:11.476552Z",
     "iopub.status.idle": "2024-12-31T03:06:11.481058Z",
     "shell.execute_reply": "2024-12-31T03:06:11.480118Z",
     "shell.execute_reply.started": "2024-12-31T03:06:11.477326Z"
    },
    "trusted": true
   },
   "outputs": [],
   "source": [
    "epochs = 25\n",
    "batch_size = 32"
   ]
  },
  {
   "cell_type": "code",
   "execution_count": null,
   "metadata": {
    "execution": {
     "iopub.execute_input": "2024-12-31T03:06:16.119681Z",
     "iopub.status.busy": "2024-12-31T03:06:16.119305Z",
     "iopub.status.idle": "2024-12-31T03:31:00.207802Z",
     "shell.execute_reply": "2024-12-31T03:31:00.206659Z",
     "shell.execute_reply.started": "2024-12-31T03:06:16.119647Z"
    },
    "trusted": true
   },
   "outputs": [],
   "source": [
    "historia = model.fit(images_train, masks_train, epochs=epochs, batch_size=batch_size, shuffle=True,validation_split=0.2)"
   ]
  },
  {
   "cell_type": "code",
   "execution_count": null,
   "metadata": {
    "execution": {
     "iopub.execute_input": "2024-12-31T03:31:05.417380Z",
     "iopub.status.busy": "2024-12-31T03:31:05.417015Z",
     "iopub.status.idle": "2024-12-31T03:31:05.422771Z",
     "shell.execute_reply": "2024-12-31T03:31:05.421777Z",
     "shell.execute_reply.started": "2024-12-31T03:31:05.417339Z"
    },
    "trusted": true
   },
   "outputs": [],
   "source": [
    "#Metricas de entrenamiento\n",
    "Loss = historia.history['loss']\n",
    "IoU = historia.history['binary_io_u']\n",
    "Precision = historia.history['precision']\n",
    "Accuracy = historia.history['binary_accuracy']\n",
    "\n",
    "\n",
    "#Métricas de validación\n",
    "Val_Loss = historia.history['val_loss']\n",
    "Val_IoU = historia.history['val_binary_io_u']\n",
    "Val_Precision = historia.history['val_precision']\n",
    "Val_Accuracy = historia.history['val_binary_accuracy']\n"
   ]
  },
  {
   "cell_type": "code",
   "execution_count": null,
   "metadata": {
    "execution": {
     "iopub.execute_input": "2024-12-31T03:31:24.668911Z",
     "iopub.status.busy": "2024-12-31T03:31:24.668525Z",
     "iopub.status.idle": "2024-12-31T03:31:24.674549Z",
     "shell.execute_reply": "2024-12-31T03:31:24.673747Z",
     "shell.execute_reply.started": "2024-12-31T03:31:24.668880Z"
    },
    "trusted": true
   },
   "outputs": [],
   "source": [
    "import csv\n",
    "with open(\"training_metrics_++.csv\", \"w\", newline=\"\") as file:\n",
    "    writer = csv.writer(file)\n",
    "    writer.writerow([\"Loss\", \"IoU\", \"Precision\", \"Accuracy\"])  # Encabezados correctos\n",
    "    for loss, iou, precision, accuracy in zip(Loss, IoU, Precision, Accuracy):\n",
    "        writer.writerow([loss, iou, precision, accuracy])"
   ]
  },
  {
   "cell_type": "code",
   "execution_count": null,
   "metadata": {
    "execution": {
     "iopub.execute_input": "2024-12-31T03:31:32.648529Z",
     "iopub.status.busy": "2024-12-31T03:31:32.648186Z",
     "iopub.status.idle": "2024-12-31T03:31:32.971160Z",
     "shell.execute_reply": "2024-12-31T03:31:32.970304Z",
     "shell.execute_reply.started": "2024-12-31T03:31:32.648499Z"
    },
    "trusted": true
   },
   "outputs": [],
   "source": [
    "#Grafica de Pérdida\n",
    "epochs_range = range(1, len(Loss) + 1)\n",
    "plt.figure(figsize=(7, 3))\n",
    "plt.plot(epochs_range, Loss, color='red', label='Entrenamiento')\n",
    "plt.plot(epochs_range, Val_Loss, color='blue', label= 'Validacion')\n",
    "plt.ylim(0,1)\n",
    "plt.xlabel('Épocas')\n",
    "plt.ylabel('Pérdida')\n",
    "plt.legend()\n",
    "plt.savefig(\"loss_unet++.svg\", format=\"svg\")\n",
    "plt.show()"
   ]
  },
  {
   "cell_type": "code",
   "execution_count": null,
   "metadata": {
    "execution": {
     "iopub.execute_input": "2024-12-31T03:31:36.117413Z",
     "iopub.status.busy": "2024-12-31T03:31:36.117064Z",
     "iopub.status.idle": "2024-12-31T03:31:36.438183Z",
     "shell.execute_reply": "2024-12-31T03:31:36.437312Z",
     "shell.execute_reply.started": "2024-12-31T03:31:36.117378Z"
    },
    "trusted": true
   },
   "outputs": [],
   "source": [
    "#Gráfica de Precisión\n",
    "plt.figure(figsize=(7, 3))\n",
    "plt.plot(epochs_range, Precision, color='red', label='Entrenamiento')\n",
    "plt.plot(epochs_range, Val_Precision, color='blue', label='Validación')\n",
    "plt.ylim(0,1)\n",
    "plt.xlabel('Épocas')\n",
    "plt.ylabel('Precision')\n",
    "plt.legend()\n",
    "plt.savefig(\"precision_unet++.svg\", format=\"svg\")\n",
    "plt.show()"
   ]
  },
  {
   "cell_type": "code",
   "execution_count": null,
   "metadata": {
    "execution": {
     "iopub.execute_input": "2024-12-31T03:31:54.555050Z",
     "iopub.status.busy": "2024-12-31T03:31:54.554228Z",
     "iopub.status.idle": "2024-12-31T03:31:54.870813Z",
     "shell.execute_reply": "2024-12-31T03:31:54.869955Z",
     "shell.execute_reply.started": "2024-12-31T03:31:54.555013Z"
    },
    "trusted": true
   },
   "outputs": [],
   "source": [
    "#Gráfica de IoU\n",
    "plt.figure(figsize=(7, 3))\n",
    "plt.plot(epochs_range, IoU, color='red', label='Entrenamiento')\n",
    "plt.plot(epochs_range, Val_IoU, color='blue', label='Validación')\n",
    "plt.ylim(0,1)\n",
    "plt.xlabel('Épocas')\n",
    "plt.ylabel('IoU')\n",
    "plt.legend()\n",
    "plt.savefig(\"IoU_unet++.svg\", format=\"svg\")\n",
    "plt.show()\n"
   ]
  },
  {
   "cell_type": "code",
   "execution_count": null,
   "metadata": {
    "execution": {
     "iopub.execute_input": "2024-12-31T03:31:59.528427Z",
     "iopub.status.busy": "2024-12-31T03:31:59.527589Z",
     "iopub.status.idle": "2024-12-31T03:31:59.724436Z",
     "shell.execute_reply": "2024-12-31T03:31:59.723352Z",
     "shell.execute_reply.started": "2024-12-31T03:31:59.528392Z"
    },
    "trusted": true
   },
   "outputs": [],
   "source": [
    "#Gráfica de Accuracy\n",
    "plt.figure(figsize=(7, 3))\n",
    "plt.plot(epochs_range, Accuracy, color='red', label='Entrenamiento')\n",
    "plt.plot(epochs_range, Val_Accuracy, color='blue', label='Validación')\n",
    "plt.ylim(0,1)\n",
    "plt.xlabel('Épocas')\n",
    "plt.ylabel('Exactitud')\n",
    "plt.legend()\n",
    "plt.savefig(\"Accuracy_unet++.svg\", format=\"svg\")\n",
    "plt.show()\n"
   ]
  },
  {
   "cell_type": "code",
   "execution_count": null,
   "metadata": {
    "execution": {
     "iopub.execute_input": "2024-12-31T03:32:06.445847Z",
     "iopub.status.busy": "2024-12-31T03:32:06.445123Z",
     "iopub.status.idle": "2024-12-31T03:32:18.260863Z",
     "shell.execute_reply": "2024-12-31T03:32:18.260096Z",
     "shell.execute_reply.started": "2024-12-31T03:32:06.445814Z"
    },
    "trusted": true
   },
   "outputs": [],
   "source": [
    "predicciones = model.predict(images_test)"
   ]
  },
  {
   "cell_type": "code",
   "execution_count": null,
   "metadata": {
    "execution": {
     "iopub.execute_input": "2024-12-31T03:32:20.263089Z",
     "iopub.status.busy": "2024-12-31T03:32:20.262351Z",
     "iopub.status.idle": "2024-12-31T03:32:26.970558Z",
     "shell.execute_reply": "2024-12-31T03:32:26.969706Z",
     "shell.execute_reply.started": "2024-12-31T03:32:20.263053Z"
    },
    "trusted": true
   },
   "outputs": [],
   "source": [
    "#Evaluar modelo con los datos de test.\n",
    "historia2 = model.evaluate(\n",
    "    x=images_test,\n",
    "    y=masks_test,\n",
    "    batch_size=None,\n",
    "    verbose=\"auto\",\n",
    "    sample_weight=None,\n",
    "    steps=None,\n",
    "    callbacks=None,\n",
    "    return_dict=False,)"
   ]
  },
  {
   "cell_type": "code",
   "execution_count": null,
   "metadata": {
    "execution": {
     "iopub.execute_input": "2024-12-31T03:32:36.089675Z",
     "iopub.status.busy": "2024-12-31T03:32:36.088960Z",
     "iopub.status.idle": "2024-12-31T03:32:38.384316Z",
     "shell.execute_reply": "2024-12-31T03:32:38.383389Z",
     "shell.execute_reply.started": "2024-12-31T03:32:36.089643Z"
    },
    "trusted": true
   },
   "outputs": [],
   "source": [
    "def mostrar_resultados(imagenes, mascaras_reales, mascaras_predichas, num_ejemplos=5):\n",
    "    plt.figure(figsize=(15, num_ejemplos * 5))\n",
    "    \n",
    "    for i in range(num_ejemplos):\n",
    "        # Imagen original\n",
    "        plt.subplot(num_ejemplos, 3, i * 3 + 1)\n",
    "        plt.imshow(imagenes[i].T, cmap=\"gray\")\n",
    "        plt.title(\"Imagen original\")\n",
    "        plt.axis(\"off\")\n",
    "\n",
    "        # Máscara real\n",
    "        plt.subplot(num_ejemplos, 3, i * 3 + 2)\n",
    "        plt.imshow(mascaras_reales[i].T, cmap=\"gray\", interpolation='Nearest')\n",
    "        plt.title(\"Máscara real\")\n",
    "        plt.axis(\"off\")\n",
    "\n",
    "        # Máscara predicha\n",
    "        plt.subplot(num_ejemplos, 3, i * 3 + 3)\n",
    "        plt.imshow(mascaras_predichas[i, ..., 0].T, cmap=\"gray\", interpolation='Nearest')\n",
    "        plt.title(\"Máscara predicha\")\n",
    "        plt.axis(\"off\")\n",
    "\n",
    "    plt.savefig(\"Resultado_UNet++.svg\", format=\"svg\")\n",
    "    plt.tight_layout()\n",
    "    plt.show()\n",
    "\n",
    "# Mostrar resultados para las primeras 5 imágenes\n",
    "mostrar_resultados(images_test, masks_test, predicciones, num_ejemplos=5)"
   ]
  },
  {
   "cell_type": "code",
   "execution_count": null,
   "metadata": {
    "execution": {
     "iopub.execute_input": "2024-12-31T03:32:47.109176Z",
     "iopub.status.busy": "2024-12-31T03:32:47.108837Z",
     "iopub.status.idle": "2024-12-31T03:32:51.885721Z",
     "shell.execute_reply": "2024-12-31T03:32:51.884869Z",
     "shell.execute_reply.started": "2024-12-31T03:32:47.109146Z"
    },
    "trusted": true
   },
   "outputs": [],
   "source": [
    "# Guardar el modelo\n",
    "model.save(\"/kaggle/working/Unet++.keras\")\n",
    "\n",
    "# Cargar el modelo\n",
    "from tensorflow.keras.models import load_model\n",
    "modelo_cargado = load_model(\"/kaggle/working/Unet++.keras\")\n",
    "\n",
    "# Confirmar que el modelo cargado funciona.\n",
    "modelo_cargado.summary()"
   ]
  }
 ],
 "metadata": {
  "kaggle": {
   "accelerator": "none",
   "dataSources": [
    {
     "datasetId": 6297269,
     "sourceId": 10192030,
     "sourceType": "datasetVersion"
    }
   ],
   "dockerImageVersionId": 30787,
   "isGpuEnabled": false,
   "isInternetEnabled": true,
   "language": "python",
   "sourceType": "notebook"
  },
  "kernelspec": {
   "display_name": "Python 3",
   "language": "python",
   "name": "python3"
  },
  "language_info": {
   "codemirror_mode": {
    "name": "ipython",
    "version": 3
   },
   "file_extension": ".py",
   "mimetype": "text/x-python",
   "name": "python",
   "nbconvert_exporter": "python",
   "pygments_lexer": "ipython3",
   "version": "3.10.14"
  }
 },
 "nbformat": 4,
 "nbformat_minor": 4
}
